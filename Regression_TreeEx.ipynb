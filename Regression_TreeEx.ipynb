{
  "nbformat": 4,
  "nbformat_minor": 0,
  "metadata": {
    "colab": {
      "name": "Regression_TreeEx.ipynb",
      "provenance": [],
      "authorship_tag": "ABX9TyMBxLKlAMdPU5XtPUeHCF91"
    },
    "kernelspec": {
      "name": "python3",
      "display_name": "Python 3"
    },
    "language_info": {
      "name": "python"
    }
  },
  "cells": [
    {
      "cell_type": "code",
      "metadata": {
        "colab": {
          "base_uri": "https://localhost:8080/"
        },
        "id": "QvYNquXy1JEX",
        "outputId": "b8d34564-7ed9-4850-a358-0cb6133b4ba9"
      },
      "source": [
        "from google.colab import drive\n",
        "drive.mount('/content/drive')"
      ],
      "execution_count": 1,
      "outputs": [
        {
          "output_type": "stream",
          "name": "stdout",
          "text": [
            "Mounted at /content/drive\n"
          ]
        }
      ]
    },
    {
      "cell_type": "code",
      "metadata": {
        "id": "Lu_Y7GQD1SOD"
      },
      "source": [
        "import pandas as pd\n",
        "import matplotlib.pyplot as plt\n",
        "from sklearn.model_selection import train_test_split\n",
        "from sklearn.tree import DecisionTreeRegressor"
      ],
      "execution_count": 2,
      "outputs": []
    },
    {
      "cell_type": "code",
      "metadata": {
        "colab": {
          "base_uri": "https://localhost:8080/",
          "height": 206
        },
        "id": "rIhWky2H1zeQ",
        "outputId": "b0606d09-fb46-42ac-e51a-f720cb52aebb"
      },
      "source": [
        "df = pd.read_csv('/content/drive/MyDrive/Coding Dojo/Raw Data/Boston_Housing_from_Sklearn.csv')\n",
        "df.head()"
      ],
      "execution_count": 3,
      "outputs": [
        {
          "output_type": "execute_result",
          "data": {
            "text/html": [
              "<div>\n",
              "<style scoped>\n",
              "    .dataframe tbody tr th:only-of-type {\n",
              "        vertical-align: middle;\n",
              "    }\n",
              "\n",
              "    .dataframe tbody tr th {\n",
              "        vertical-align: top;\n",
              "    }\n",
              "\n",
              "    .dataframe thead th {\n",
              "        text-align: right;\n",
              "    }\n",
              "</style>\n",
              "<table border=\"1\" class=\"dataframe\">\n",
              "  <thead>\n",
              "    <tr style=\"text-align: right;\">\n",
              "      <th></th>\n",
              "      <th>CRIM</th>\n",
              "      <th>NOX</th>\n",
              "      <th>RM</th>\n",
              "      <th>AGE</th>\n",
              "      <th>PTRATIO</th>\n",
              "      <th>LSTAT</th>\n",
              "      <th>PRICE</th>\n",
              "    </tr>\n",
              "  </thead>\n",
              "  <tbody>\n",
              "    <tr>\n",
              "      <th>0</th>\n",
              "      <td>0.00632</td>\n",
              "      <td>0.538</td>\n",
              "      <td>6.575</td>\n",
              "      <td>65.2</td>\n",
              "      <td>15.3</td>\n",
              "      <td>4.98</td>\n",
              "      <td>24.0</td>\n",
              "    </tr>\n",
              "    <tr>\n",
              "      <th>1</th>\n",
              "      <td>0.02731</td>\n",
              "      <td>0.469</td>\n",
              "      <td>6.421</td>\n",
              "      <td>78.9</td>\n",
              "      <td>17.8</td>\n",
              "      <td>9.14</td>\n",
              "      <td>21.6</td>\n",
              "    </tr>\n",
              "    <tr>\n",
              "      <th>2</th>\n",
              "      <td>0.02729</td>\n",
              "      <td>0.469</td>\n",
              "      <td>7.185</td>\n",
              "      <td>61.1</td>\n",
              "      <td>17.8</td>\n",
              "      <td>4.03</td>\n",
              "      <td>34.7</td>\n",
              "    </tr>\n",
              "    <tr>\n",
              "      <th>3</th>\n",
              "      <td>0.03237</td>\n",
              "      <td>0.458</td>\n",
              "      <td>6.998</td>\n",
              "      <td>45.8</td>\n",
              "      <td>18.7</td>\n",
              "      <td>2.94</td>\n",
              "      <td>33.4</td>\n",
              "    </tr>\n",
              "    <tr>\n",
              "      <th>4</th>\n",
              "      <td>0.06905</td>\n",
              "      <td>0.458</td>\n",
              "      <td>7.147</td>\n",
              "      <td>54.2</td>\n",
              "      <td>18.7</td>\n",
              "      <td>5.33</td>\n",
              "      <td>36.2</td>\n",
              "    </tr>\n",
              "  </tbody>\n",
              "</table>\n",
              "</div>"
            ],
            "text/plain": [
              "      CRIM    NOX     RM   AGE  PTRATIO  LSTAT  PRICE\n",
              "0  0.00632  0.538  6.575  65.2     15.3   4.98   24.0\n",
              "1  0.02731  0.469  6.421  78.9     17.8   9.14   21.6\n",
              "2  0.02729  0.469  7.185  61.1     17.8   4.03   34.7\n",
              "3  0.03237  0.458  6.998  45.8     18.7   2.94   33.4\n",
              "4  0.06905  0.458  7.147  54.2     18.7   5.33   36.2"
            ]
          },
          "metadata": {},
          "execution_count": 3
        }
      ]
    },
    {
      "cell_type": "code",
      "metadata": {
        "id": "_P9o-_C32AVH"
      },
      "source": [
        "# create target (y) and features (X)\n",
        "y = df['PRICE']\n",
        "X = df.drop(columns = 'PRICE')"
      ],
      "execution_count": 6,
      "outputs": []
    },
    {
      "cell_type": "code",
      "metadata": {
        "id": "1JWYAOb32O9p"
      },
      "source": [
        "# train test split\n",
        "X_train, X_test, y_train, y_test = train_test_split(X, y, random_state = 42)"
      ],
      "execution_count": 7,
      "outputs": []
    },
    {
      "cell_type": "code",
      "metadata": {
        "colab": {
          "base_uri": "https://localhost:8080/"
        },
        "id": "6YnuA8Yw2tOi",
        "outputId": "7a572a9d-fa60-4ca9-d668-d4448f0f45ac"
      },
      "source": [
        "# run regression model with default parameters\n",
        "unlimited_tree = DecisionTreeRegressor(random_state = 42)\n",
        "unlimited_tree.fit(X_train, y_train)\n",
        "train_score = unlimited_tree.score(X_train, y_train)\n",
        "test_score = unlimited_tree.score(X_test, y_test)\n",
        "print(train_score)\n",
        "print(test_score)"
      ],
      "execution_count": 9,
      "outputs": [
        {
          "output_type": "stream",
          "name": "stdout",
          "text": [
            "1.0\n",
            "0.6193230918136841\n"
          ]
        }
      ]
    },
    {
      "cell_type": "markdown",
      "metadata": {
        "id": "P_Gei2Yk4KDE"
      },
      "source": [
        "Model with default parameters is overfit"
      ]
    },
    {
      "cell_type": "code",
      "metadata": {
        "colab": {
          "base_uri": "https://localhost:8080/"
        },
        "id": "KoQIldM03jik",
        "outputId": "5a93856c-6135-4088-9c9c-e59e5b2bc84f"
      },
      "source": [
        "# determine the depth of default tree\n",
        "unlimited_tree.get_depth()"
      ],
      "execution_count": 10,
      "outputs": [
        {
          "output_type": "execute_result",
          "data": {
            "text/plain": [
              "20"
            ]
          },
          "metadata": {},
          "execution_count": 10
        }
      ]
    },
    {
      "cell_type": "markdown",
      "metadata": {
        "id": "jnutWCfn5XQ-"
      },
      "source": [
        "Determine the optimal max_depth based on the best r2 value"
      ]
    },
    {
      "cell_type": "code",
      "metadata": {
        "id": "18AAqF7B4WKc"
      },
      "source": [
        "# create function\n",
        "max_depth_range = list(range(2,20))\n",
        "r2 = []\n",
        "for depth in max_depth_range:\n",
        "  dec_tree = DecisionTreeRegressor(max_depth = depth, random_state = 42)\n",
        "  dec_tree.fit(X_train, y_train)\n",
        "  score = dec_tree.score(X_test, y_test)\n",
        "  r2.append(score)"
      ],
      "execution_count": 11,
      "outputs": []
    },
    {
      "cell_type": "code",
      "metadata": {
        "colab": {
          "base_uri": "https://localhost:8080/",
          "height": 280
        },
        "id": "obbImqyL59N8",
        "outputId": "5bc49c54-6772-4fa8-b290-37702dbaa5e4"
      },
      "source": [
        "# visualize max_depth vs r2\n",
        "plt.plot(max_depth_range, r2)\n",
        "plt.xlabel('Max_depth')\n",
        "plt.ylabel('r2');"
      ],
      "execution_count": 12,
      "outputs": [
        {
          "output_type": "display_data",
          "data": {
            "image/png": "[encoded data removed]",
            "text/plain": [
              "<Figure size 432x288 with 1 Axes>"
            ]
          },
          "metadata": {
            "needs_background": "light"
          }
        }
      ]
    },
    {
      "cell_type": "markdown",
      "metadata": {
        "id": "Uzhv1ecR6s6K"
      },
      "source": [
        "The optimal max_depth is either 7 or 10 based on the above function.  Further trials below."
      ]
    },
    {
      "cell_type": "code",
      "metadata": {
        "colab": {
          "base_uri": "https://localhost:8080/"
        },
        "id": "K6Gckkay6XoR",
        "outputId": "523efc39-868e-4c81-e460-e984b73afcfd"
      },
      "source": [
        "seven_tree = DecisionTreeRegressor(max_depth = 7, random_state = 42)\n",
        "seven_tree.fit(X_train, y_train)\n",
        "train7score = seven_tree.score(X_train, y_train)\n",
        "test7score = seven_tree.score(X_test, y_test)\n",
        "print(train7score)\n",
        "print(test7score)"
      ],
      "execution_count": 14,
      "outputs": [
        {
          "output_type": "stream",
          "name": "stdout",
          "text": [
            "0.958516936961625\n",
            "0.8463768203632204\n"
          ]
        }
      ]
    },
    {
      "cell_type": "code",
      "metadata": {
        "colab": {
          "base_uri": "https://localhost:8080/"
        },
        "id": "YNfC45NK7aip",
        "outputId": "79fc48cd-e881-474d-b847-09658a5de965"
      },
      "source": [
        "ten_tree = DecisionTreeRegressor(max_depth = 10, random_state = 42)\n",
        "ten_tree.fit(X_train, y_train)\n",
        "train10score = ten_tree.score(X_train, y_train)\n",
        "test10score = ten_tree.score(X_test, y_test)\n",
        "print(train10score)\n",
        "print(test10score)"
      ],
      "execution_count": 15,
      "outputs": [
        {
          "output_type": "stream",
          "name": "stdout",
          "text": [
            "0.9867962386381032\n",
            "0.8460104271509634\n"
          ]
        }
      ]
    },
    {
      "cell_type": "markdown",
      "metadata": {
        "id": "v96aZvnj8BY1"
      },
      "source": [
        "Based on these trials, the optimal max_depth for this model is 7."
      ]
    },
    {
      "cell_type": "code",
      "metadata": {
        "colab": {
          "base_uri": "https://localhost:8080/"
        },
        "id": "3QO4Cxvt76rg",
        "outputId": "4cea5c07-a9f5-429c-e671-1fa2fb090de9"
      },
      "source": [
        "# what is the r2 of your final model on the training set and the test set?\n",
        "seven_tree = DecisionTreeRegressor(max_depth = 7, random_state = 42)\n",
        "seven_tree.fit(X_train, y_train)\n",
        "train7score = seven_tree.score(X_train, y_train)\n",
        "test7score = seven_tree.score(X_test, y_test)\n",
        "print('The r2 of the final model on the training set is', train7score)\n",
        "print('The r2 of the final model on the test set is', test7score)"
      ],
      "execution_count": 17,
      "outputs": [
        {
          "output_type": "stream",
          "name": "stdout",
          "text": [
            "The r2 of the final model on the training set is 0.958516936961625\n",
            "The r2 of the final model on the test set is 0.8463768203632204\n"
          ]
        }
      ]
    },
    {
      "cell_type": "code",
      "metadata": {
        "id": "vkQvIkzW8nbH"
      },
      "source": [
        ""
      ],
      "execution_count": null,
      "outputs": []
    }
  ]
}